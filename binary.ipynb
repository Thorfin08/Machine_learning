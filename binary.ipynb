{
 "cells": [
  {
   "cell_type": "code",
   "execution_count": 12,
   "id": "97d7b5cf",
   "metadata": {},
   "outputs": [],
   "source": [
    "test={\n",
    "    'input':{\n",
    "        'cards':[13,11,10,9,7,6,4,4,4,4,3],\n",
    "        'quary':4\n",
    "    },\n",
    "    'output': 7\n",
    "}"
   ]
  },
  {
   "cell_type": "code",
   "execution_count": null,
   "id": "2b8287cf",
   "metadata": {},
   "outputs": [],
   "source": []
  },
  {
   "cell_type": "code",
   "execution_count": 13,
   "id": "9426e8ac",
   "metadata": {},
   "outputs": [],
   "source": [
    "def locate_card(cards,quary,mid):\n",
    "    if  cards[mid]==quary:\n",
    "        if cards[mid-1]>=0 and cards[mid-1]==quary:\n",
    "            return 'left'\n",
    "        else:\n",
    "            return 'found'\n",
    "    elif cards[mid]>quary:    \n",
    "        return 'right'\n",
    "    else: \n",
    "        return 'left'\n",
    "    "
   ]
  },
  {
   "cell_type": "code",
   "execution_count": null,
   "id": "61e20592",
   "metadata": {},
   "outputs": [
    {
     "ename": "",
     "evalue": "",
     "output_type": "error",
     "traceback": [
      "\u001b[1;31mThe Kernel crashed while executing code in the current cell or a previous cell. \n",
      "\u001b[1;31mPlease review the code in the cell(s) to identify a possible cause of the failure. \n",
      "\u001b[1;31mClick <a href='https://aka.ms/vscodeJupyterKernelCrash'>here</a> for more info. \n",
      "\u001b[1;31mView Jupyter <a href='command:jupyter.viewOutput'>log</a> for further details."
     ]
    }
   ],
   "source": [
    "def binary_search(cards, query):\n",
    "     lo=0\n",
    "     hi=len(cards)-1\n",
    "     while lo<=hi:\n",
    "          mid=(lo+hi)//2\n",
    "          print('lo',lo,'hi',hi,'mid',mid,'cards[mid]',cards[mid])\n",
    "          result=locate_card(cards,query,mid)\n",
    "          if result == 'right':\n",
    "                 lo=mid+1\n",
    "          elif result =='left':\n",
    "               hi=mid-1\n",
    "          elif result=='found':\n",
    "                return mid\n",
    "          else: \n",
    "                return -1\n",
    "     final_result=binary_search(test['input']['cards'],test['input']['quary'])  \n",
    "     if final_result==test['output']:\n",
    "           print('Test passed',final_result)        "
   ]
  }
 ],
 "metadata": {
  "kernelspec": {
   "display_name": ".venv",
   "language": "python",
   "name": "python3"
  },
  "language_info": {
   "codemirror_mode": {
    "name": "ipython",
    "version": 3
   },
   "file_extension": ".py",
   "mimetype": "text/x-python",
   "name": "python",
   "nbconvert_exporter": "python",
   "pygments_lexer": "ipython3",
   "version": "3.13.1"
  }
 },
 "nbformat": 4,
 "nbformat_minor": 5
}

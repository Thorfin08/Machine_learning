{
 "cells": [
  {
   "cell_type": "markdown",
   "id": "0ee523da",
   "metadata": {},
   "source": [
    "**if, else and elif statement in python**"
   ]
  },
  {
   "cell_type": "code",
   "execution_count": 11,
   "id": "6b18cf2e",
   "metadata": {},
   "outputs": [
    {
     "name": "stdout",
     "output_type": "stream",
     "text": [
      "prashant is not a worker, you can hire them\n"
     ]
    }
   ],
   "source": [
    "workers=[\"sameer\",\"subash\",\"suresh\",\"ram\",\"ravi\"]\n",
    "#workers.append(\"prashant\")\n",
    "candidate=\"prashant\"\n",
    "if candidate in workers:\n",
    "    print(f\"{candidate} is already a worker\")\n",
    "else:\n",
    "    print(f\"{candidate} is not a worker, you can hire them\")"
   ]
  },
  {
   "cell_type": "code",
   "execution_count": 15,
   "id": "59e747da",
   "metadata": {},
   "outputs": [
    {
     "name": "stdout",
     "output_type": "stream",
     "text": [
      "12 is Even\n"
     ]
    }
   ],
   "source": [
    "number=12\n",
    "if number%2==0:\n",
    "    yes=\"Even\"\n",
    "else:\n",
    "    yes=\"Odd\"\n",
    "print(f\"{number} is {yes}\")"
   ]
  },
  {
   "cell_type": "code",
   "execution_count": 19,
   "id": "42151d03",
   "metadata": {},
   "outputs": [
    {
     "name": "stdout",
     "output_type": "stream",
     "text": [
      "odd\n"
     ]
    }
   ],
   "source": [
    "number=13\n",
    "result = \"Even\" if number %2==0 else \"odd\"\n",
    "print(result)"
   ]
  },
  {
   "cell_type": "code",
   "execution_count": 61,
   "id": "b6697003",
   "metadata": {},
   "outputs": [
    {
     "name": "stdout",
     "output_type": "stream",
     "text": [
      "scissors\n"
     ]
    }
   ],
   "source": [
    "import random\n",
    "\n",
    "#randpm_num=random.randint(1,6)\n",
    "#print(randpm_num)\n",
    "\n",
    "options=[\"rock\",\"paper\",\"scissors\"]\n",
    "option=random.choice(options)\n",
    "print(option)\n"
   ]
  },
  {
   "cell_type": "code",
   "execution_count": null,
   "id": "51dc7d3f",
   "metadata": {},
   "outputs": [],
   "source": []
  }
 ],
 "metadata": {
  "kernelspec": {
   "display_name": ".venv",
   "language": "python",
   "name": "python3"
  },
  "language_info": {
   "codemirror_mode": {
    "name": "ipython",
    "version": 3
   },
   "file_extension": ".py",
   "mimetype": "text/x-python",
   "name": "python",
   "nbconvert_exporter": "python",
   "pygments_lexer": "ipython3",
   "version": "3.13.1"
  }
 },
 "nbformat": 4,
 "nbformat_minor": 5
}
